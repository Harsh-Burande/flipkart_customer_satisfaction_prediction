{
  "nbformat": 4,
  "nbformat_minor": 0,
  "metadata": {
    "colab": {
      "private_outputs": true,
      "provenance": [],
      "collapsed_sections": [
        "vncDsAP0Gaoa",
        "w6K7xa23Elo4",
        "mDgbUHAGgjLW",
        "H0kj-8xxnORC",
        "MSa1f5Uengrz",
        "K5QZ13OEpz2H",
        "448CDAPjqfQr",
        "t6dVpIINYklI",
        "ijmpgYnKYklI",
        "-JiQyfWJYklI",
        "fge-S5ZAYoAp",
        "RoGjAbkUYoAp",
        "qYpmQ266Yuh3",
        "bbFf2-_FphqN",
        "Seke61FWphqN",
        "b0JNsNcRphqO",
        "jj7wYXLtphqO",
        "rFu4xreNphqO",
        "lssrdh5qphqQ",
        "gIfDvo9L0UH2"
      ],
      "include_colab_link": true
    },
    "kernelspec": {
      "name": "python3",
      "display_name": "Python 3"
    },
    "language_info": {
      "name": "python"
    }
  },
  "cells": [
    {
      "cell_type": "markdown",
      "metadata": {
        "id": "view-in-github",
        "colab_type": "text"
      },
      "source": [
        "<a href=\"https://colab.research.google.com/github/Harsh-Burande/flipkart_customer_satisfaction_prediction/blob/main/Flipkart_Customer_Support.ipynb\" target=\"_parent\"><img src=\"https://colab.research.google.com/assets/colab-badge.svg\" alt=\"Open In Colab\"/></a>"
      ]
    },
    {
      "cell_type": "markdown",
      "source": [
        "# **Project Name**    -  Classification - Flipkart Customer Service Satisfaction\n",
        "\n"
      ],
      "metadata": {
        "id": "vncDsAP0Gaoa"
      }
    },
    {
      "cell_type": "markdown",
      "source": [
        "##### **Project Type**    - EDA/Regression/Classification/Unsupervised\n",
        "##### **Contribution**    - Individual\n",
        "##### **Team Member -**    Harsh Burande"
      ],
      "metadata": {
        "id": "beRrZCGUAJYm"
      }
    },
    {
      "cell_type": "markdown",
      "source": [
        "# **Project Summary -**"
      ],
      "metadata": {
        "id": "FJNUwmbgGyua"
      }
    },
    {
      "cell_type": "markdown",
      "source": [
        "**Project Summary: Flipkart Customer Support Analysis**\n",
        "\n",
        "This project focused on analyzing Flipkart’s customer support data to evaluate operational performance, identify factors affecting customer satisfaction (CSAT), and provide actionable insights to enhance service quality. The primary business objective was to understand patterns in customer interactions, pinpoint areas causing dissatisfaction, and suggest interventions to improve overall CSAT scores.\n",
        "\n",
        "We began with exploratory data analysis (EDA) to gain a clear understanding of the dataset, which included attributes such as channel name, category, sub-category, agent information, response times, and CSAT scores. Initial visualizations, including bar charts, line charts, treemaps, and scatterplots, helped uncover key patterns. For example, the distribution of response times revealed that most tickets were resolved within a reasonable timeframe, but certain channels experienced delays. Additionally, CSAT trends over time showed that satisfaction remained relatively stable between 4.16 and 4.36 for most of August, with a notable drop to 3.19 on 28th August, indicating a specific period of operational strain.\n",
        "\n",
        "To evaluate the impact of various features on customer satisfaction, we created a Week column to analyze trends at a weekly level and observed differences in performance by channel, agent shift, and ticket category. This step highlighted that faster response times and certain communication channels, like chat, correlated with higher CSAT scores, while slower channels or high-volume categories were more likely to generate dissatisfied customers.\n",
        "\n",
        "Next, we applied classification modeling to predict satisfaction levels and understand feature importance. Logistic Regression, Random Forest, and Decision Tree models were implemented, with resampling techniques such as SMOTE and Tomek Links used to handle class imbalance between high and low CSAT labels. Logistic Regression provided interpretable coefficients, identifying response time, week, and channel as top predictors. Random Forest offered improved predictive performance and clearer feature importance rankings, while the Decision Tree model, although slightly lower in accuracy, provided high interpretability and a visual structure to understand decision paths impacting satisfaction. Threshold tuning further helped optimize model outputs, ensuring that predictions for low and high CSAT were actionable.\n",
        "\n",
        "Throughout the modeling process, key insights emerged:\n",
        "\n",
        "Response time is the dominant factor influencing customer satisfaction. Faster resolutions consistently correlate with higher CSAT scores.\n",
        "\n",
        "Channel-specific performance varies; some channels naturally achieve faster resolutions and higher satisfaction.\n",
        "\n",
        "High-volume categories with low satisfaction represent critical areas where interventions can have the greatest impact.\n",
        "\n",
        "Agent and shift-level variations indicate that training and process standardization can improve overall support quality.\n",
        "\n",
        "Based on these findings, the project recommends that Flipkart focus on reducing response times across slower channels, targeting low-satisfaction categories for process improvement, monitoring agent performance, and leveraging predictive models to proactively address potential dissatisfaction. Collecting more structured feedback in the future will further refine predictions and enhance operational decision-making.\n",
        "\n",
        "In conclusion, this project successfully combined EDA, predictive modeling, and visualization to provide a comprehensive view of Flipkart’s customer support operations. By implementing the recommended strategies, Flipkart can improve both customer experience and operational efficiency, directly supporting the business objective of increasing customer satisfaction. The analysis also lays the foundation for continuous monitoring and iterative improvements, enabling data-driven decision-making in support operations."
      ],
      "metadata": {
        "id": "F6v_1wHtG2nS"
      }
    },
    {
      "cell_type": "markdown",
      "source": [
        "# **GitHub Link -**"
      ],
      "metadata": {
        "id": "w6K7xa23Elo4"
      }
    },
    {
      "cell_type": "markdown",
      "source": [
        "https://github.com/Harsh-Burande/flipkart_customer_satisfaction_prediction\n"
      ],
      "metadata": {
        "id": "h1o69JH3Eqqn"
      }
    },
    {
      "cell_type": "markdown",
      "source": [
        "# **Problem Statement**\n"
      ],
      "metadata": {
        "id": "yQaldy8SH6Dl"
      }
    },
    {
      "cell_type": "markdown",
      "source": [
        "**Problem Statement.**\n",
        "Flipkart’s customer support handles thousands of queries daily, but inconsistent response times, varying agent performance, and complex issues impact customer satisfaction (CSAT). This project analyzes historical support data to identify key factors affecting CSAT, evaluate channel and agent performance, and build predictive models to proactively improve customer experience and operational efficiency.\n",
        "\n",
        "* To analyze Flipkart’s customer support data and leverage insights and predictive models to improve customer satisfaction (CSAT) and optimize operational efficiency."
      ],
      "metadata": {
        "id": "DpeJGUA3kjGy"
      }
    },
    {
      "cell_type": "markdown",
      "source": [
        "#### **Define Your Business Objective?**"
      ],
      "metadata": {
        "id": "PH-0ReGfmX4f"
      }
    },
    {
      "cell_type": "markdown",
      "source": [
        "To improve Flipkart’s customer satisfaction (CSAT) and support efficiency by identifying key factors affecting satisfaction and using predictive models to proactively manage high-risk tickets.\n"
      ],
      "metadata": {
        "id": "PhDvGCAqmjP1"
      }
    },
    {
      "cell_type": "markdown",
      "source": [
        "# **General Guidelines** : -  "
      ],
      "metadata": {
        "id": "mDgbUHAGgjLW"
      }
    },
    {
      "cell_type": "markdown",
      "source": [
        "1.   Well-structured, formatted, and commented code is required.\n",
        "2.   Exception Handling, Production Grade Code & Deployment Ready Code will be a plus. Those students will be awarded some additional credits.\n",
        "     \n",
        "     The additional credits will have advantages over other students during Star Student selection.\n",
        "       \n",
        "             [ Note: - Deployment Ready Code is defined as, the whole .ipynb notebook should be executable in one go\n",
        "                       without a single error logged. ]\n",
        "\n",
        "3.   Each and every logic should have proper comments.\n",
        "4. You may add as many number of charts you want. Make Sure for each and every chart the following format should be answered.\n",
        "        \n",
        "\n",
        "```\n",
        "# Chart visualization code\n",
        "```\n",
        "            \n",
        "\n",
        "*   Why did you pick the specific chart?\n",
        "*   What is/are the insight(s) found from the chart?\n",
        "* Will the gained insights help creating a positive business impact?\n",
        "Are there any insights that lead to negative growth? Justify with specific reason.\n",
        "\n",
        "5. You have to create at least 20 logical & meaningful charts having important insights.\n",
        "\n",
        "\n",
        "[ Hints : - Do the Vizualization in  a structured way while following \"UBM\" Rule.\n",
        "\n",
        "U - Univariate Analysis,\n",
        "\n",
        "B - Bivariate Analysis (Numerical - Categorical, Numerical - Numerical, Categorical - Categorical)\n",
        "\n",
        "M - Multivariate Analysis\n",
        " ]\n",
        "\n",
        "\n",
        "\n"
      ],
      "metadata": {
        "id": "ZrxVaUj-hHfC"
      }
    },
    {
      "cell_type": "markdown",
      "source": [
        "# ***Let's Begin !***"
      ],
      "metadata": {
        "id": "O_i_v8NEhb9l"
      }
    },
    {
      "cell_type": "markdown",
      "source": [
        "## ***1. Know Your Data***"
      ],
      "metadata": {
        "id": "HhfV-JJviCcP"
      }
    },
    {
      "cell_type": "markdown",
      "source": [
        "### Import Libraries"
      ],
      "metadata": {
        "id": "Y3lxredqlCYt"
      }
    },
    {
      "cell_type": "code",
      "source": [
        "# Import Libraries\n",
        "import pandas as pd\n",
        "import numpy as np\n",
        "import matplotlib.pyplot as plt\n",
        "import plotly.figure_factory as ff\n",
        "import plotly.express as px\n",
        "from datetime import datetime\n",
        "import warnings\n",
        "warnings.filterwarnings('ignore')\n",
        "\n",
        "# Loading ML libraries\n",
        "from sklearn.model_selection import train_test_split\n",
        "\n",
        "from imblearn.pipeline import Pipeline\n",
        "from sklearn.linear_model import LogisticRegression\n",
        "from sklearn.ensemble import RandomForestClassifier\n",
        "from sklearn.tree import DecisionTreeClassifier, plot_tree\n",
        "from sklearn.metrics import accuracy_score, confusion_matrix, classification_report\n",
        "from sklearn.model_selection import RandomizedSearchCV\n",
        "from sklearn.preprocessing import StandardScaler\n",
        "\n",
        "from imblearn.over_sampling import SMOTE\n",
        "from imblearn.under_sampling import TomekLinks\n"
      ],
      "metadata": {
        "id": "M8Vqi-pPk-HR"
      },
      "execution_count": null,
      "outputs": []
    },
    {
      "cell_type": "markdown",
      "source": [
        "### Dataset Loading"
      ],
      "metadata": {
        "id": "3RnN4peoiCZX"
      }
    },
    {
      "cell_type": "code",
      "source": [
        "# Load Dataset\n",
        "from google.colab import drive\n",
        "drive.mount('/content/drive')"
      ],
      "metadata": {
        "id": "4CkvbW_SlZ_R"
      },
      "execution_count": null,
      "outputs": []
    },
    {
      "cell_type": "code",
      "source": [
        "flipkart_df = pd.read_csv('/content/drive/MyDrive/Module 6 capstone projecct/Customer_support_data.csv')"
      ],
      "metadata": {
        "id": "5MgSpHOxpvmf"
      },
      "execution_count": null,
      "outputs": []
    },
    {
      "cell_type": "markdown",
      "source": [
        "### Dataset First View"
      ],
      "metadata": {
        "id": "x71ZqKXriCWQ"
      }
    },
    {
      "cell_type": "code",
      "source": [
        "# Dataset First Look\n",
        "flipkart_df.head(10)"
      ],
      "metadata": {
        "id": "LWNFOSvLl09H"
      },
      "execution_count": null,
      "outputs": []
    },
    {
      "cell_type": "markdown",
      "source": [
        "### Dataset Rows & Columns count"
      ],
      "metadata": {
        "id": "7hBIi_osiCS2"
      }
    },
    {
      "cell_type": "code",
      "source": [
        "# Dataset Rows & Columns count\n",
        "flipkart_df.shape"
      ],
      "metadata": {
        "id": "Kllu7SJgmLij"
      },
      "execution_count": null,
      "outputs": []
    },
    {
      "cell_type": "markdown",
      "source": [
        "### Dataset Information"
      ],
      "metadata": {
        "id": "JlHwYmJAmNHm"
      }
    },
    {
      "cell_type": "code",
      "source": [
        "# Dataset Info\n",
        "flipkart_df.info()"
      ],
      "metadata": {
        "id": "e9hRXRi6meOf"
      },
      "execution_count": null,
      "outputs": []
    },
    {
      "cell_type": "markdown",
      "source": [
        "#### Duplicate Values"
      ],
      "metadata": {
        "id": "35m5QtbWiB9F"
      }
    },
    {
      "cell_type": "code",
      "source": [
        "# Dataset Duplicate Value Count\n",
        "flipkart_df.duplicated().sum()"
      ],
      "metadata": {
        "id": "1sLdpKYkmox0"
      },
      "execution_count": null,
      "outputs": []
    },
    {
      "cell_type": "markdown",
      "source": [
        "#### Missing Values/Null Values"
      ],
      "metadata": {
        "id": "PoPl-ycgm1ru"
      }
    },
    {
      "cell_type": "code",
      "source": [
        "# Missing Values/Null Values Count\n",
        "flipkart_df.isnull().sum()"
      ],
      "metadata": {
        "id": "GgHWkxvamxVg"
      },
      "execution_count": null,
      "outputs": []
    },
    {
      "cell_type": "code",
      "source": [
        "# Created a clone of the real flipkart dataset\n",
        "flipkart_df_cloned = flipkart_df.copy()"
      ],
      "metadata": {
        "id": "ODp2gsmesr0j"
      },
      "execution_count": null,
      "outputs": []
    },
    {
      "cell_type": "code",
      "source": [
        "# Visualizing the missing values"
      ],
      "metadata": {
        "id": "3q5wnI3om9sJ"
      },
      "execution_count": null,
      "outputs": []
    },
    {
      "cell_type": "markdown",
      "source": [
        "### What did you know about your dataset?"
      ],
      "metadata": {
        "id": "H0kj-8xxnORC"
      }
    },
    {
      "cell_type": "markdown",
      "source": [
        "Answer Here"
      ],
      "metadata": {
        "id": "gfoNAAC-nUe_"
      }
    },
    {
      "cell_type": "markdown",
      "source": [
        "## ***2. Understanding Your Variables***"
      ],
      "metadata": {
        "id": "nA9Y7ga8ng1Z"
      }
    },
    {
      "cell_type": "markdown",
      "source": [
        "\n",
        "1. **Unique id -**                Unique identifier for each record                                             \n",
        "2. **Channel name -**             Customer service channel used (e.g., inbound, outcall, email)                       \n",
        "3. **Category -**                 Broad category of the customer’s issue                                        \n",
        "4. **Sub-category -**             Specific sub-category of the issue                                            \n",
        "5. **Customer Remarks -**         Feedback or comments provided by the customer                                 \n",
        "6. **Order id**                 Identifier of the order linked to the support interaction                      \n",
        "7. **Order date time -**          Date and time when the order was placed                                       \n",
        "8. **Issue reported at -**        Timestamp when the issue was reported                                         \n",
        "9. **Issue responded -**          Timestamp when the issue was responded to                                      \n",
        "10. **Survey response date -**     Date of the customer satisfaction survey                                      \n",
        "11. **Customer city -**            City of the customer                                                          \n",
        "12. **Product category -**         Category of the product involved in the issue                                 \n",
        "13. **Item price -**               Price of the product                                                          \n",
        "14. **Connected handling time -**  Time taken (in minutes/seconds) by the agent to handle the interaction         \n",
        "15. **Agent name -**              Name of the customer service agent handling the issue                          \n",
        "16. **Supervisor -**               Name of the supervisor monitoring the agent                                    \n",
        "17. **Manager -**                  Name of the manager responsible                                                \n",
        "18. **Tenure Bucket -**            Agent’s experience level (e.g., 0–6 months, 6–12 months, etc.)                 \n",
        "19. **Agent Shift -**              Shift timing of the agent (e.g., Morning, Evening, Night)                      \n",
        "20. **CSAT Score -**               Customer Satisfaction score (target variable, numerical or categorical rating)\n"
      ],
      "metadata": {
        "id": "j7xfkqrt5Ag5"
      }
    },
    {
      "cell_type": "markdown",
      "source": [
        "### Variables Description"
      ],
      "metadata": {
        "id": "PBTbrJXOngz2"
      }
    },
    {
      "cell_type": "code",
      "source": [
        "flipkart_df.describe()"
      ],
      "metadata": {
        "id": "y-lgeXl6pj4S"
      },
      "execution_count": null,
      "outputs": []
    },
    {
      "cell_type": "markdown",
      "source": [
        "Answer Here"
      ],
      "metadata": {
        "id": "aJV4KIxSnxay"
      }
    },
    {
      "cell_type": "markdown",
      "source": [
        "### Check Unique Values for each variable."
      ],
      "metadata": {
        "id": "u3PMJOP6ngxN"
      }
    },
    {
      "cell_type": "code",
      "source": [
        "# Check Unique Values for each variable.\n",
        "flipkart_df.nunique()"
      ],
      "metadata": {
        "id": "zms12Yq5n-jE"
      },
      "execution_count": null,
      "outputs": []
    },
    {
      "cell_type": "markdown",
      "source": [
        "## 3. ***Data Wrangling***"
      ],
      "metadata": {
        "id": "dauF4eBmngu3"
      }
    },
    {
      "cell_type": "markdown",
      "source": [
        "### Data Wrangling Code"
      ],
      "metadata": {
        "id": "bKJF3rekwFvQ"
      }
    },
    {
      "cell_type": "code",
      "source": [
        "# Dropping the columns with huge null values.\n",
        "flipkart_df.drop(columns=['Order_id', 'order_date_time', 'Customer_City', 'Product_category', 'Item_price', 'connected_handling_time', 'Supervisor'], axis=1, inplace=True)"
      ],
      "metadata": {
        "id": "SLbQppNyt3he"
      },
      "execution_count": null,
      "outputs": []
    },
    {
      "cell_type": "code",
      "source": [
        "flipkart_df.isnull().sum()"
      ],
      "metadata": {
        "id": "kISBXCGUvtq6"
      },
      "execution_count": null,
      "outputs": []
    },
    {
      "cell_type": "code",
      "source": [
        "flipkart_df.head()"
      ],
      "metadata": {
        "id": "brwtU-j5zhri"
      },
      "execution_count": null,
      "outputs": []
    },
    {
      "cell_type": "code",
      "source": [
        "# Change type of date columns from object to datetime\n",
        "flipkart_df['Issue_reported at'] = pd.to_datetime(flipkart_df['Issue_reported at'], format=\"%d/%m/%Y %H:%M\")\n",
        "flipkart_df['issue_responded'] = pd.to_datetime(flipkart_df['issue_responded'], format=\"%d/%m/%Y %H:%M\")\n",
        "flipkart_df['Survey_response_Date'] = pd.to_datetime(flipkart_df['Survey_response_Date'])"
      ],
      "metadata": {
        "id": "cdqXqd_zz71k"
      },
      "execution_count": null,
      "outputs": []
    },
    {
      "cell_type": "code",
      "source": [
        "flipkart_df.info()"
      ],
      "metadata": {
        "id": "mXloqnfa2hAp"
      },
      "execution_count": null,
      "outputs": []
    },
    {
      "cell_type": "code",
      "source": [
        "# Add a colum to calculate the gap between issue reported and issue responded\n",
        "flipkart_df['response_time'] = flipkart_df['issue_responded'] - flipkart_df['Issue_reported at']\n",
        "flipkart_df"
      ],
      "metadata": {
        "id": "wk-9a2fpoLcV"
      },
      "execution_count": null,
      "outputs": []
    },
    {
      "cell_type": "code",
      "source": [
        "# Checking the negative response time and droping the rows.\n",
        "flipkart_df.loc[flipkart_df['response_time'] < pd.Timedelta(0)]"
      ],
      "metadata": {
        "id": "w8BB347014oL"
      },
      "execution_count": null,
      "outputs": []
    },
    {
      "cell_type": "code",
      "source": [
        "flipkart_df = flipkart_df[flipkart_df['response_time'] >= pd.Timedelta(0)]"
      ],
      "metadata": {
        "id": "xTTl2P4M_Q2E"
      },
      "execution_count": null,
      "outputs": []
    },
    {
      "cell_type": "code",
      "source": [
        "# Converted response time into hours.\n",
        "flipkart_df['response_time'] = flipkart_df['response_time'].dt.total_seconds() / 3600"
      ],
      "metadata": {
        "id": "gO_DBlOvW2O9"
      },
      "execution_count": null,
      "outputs": []
    },
    {
      "cell_type": "code",
      "source": [
        "# Created a column with unique values representing unique channel_name.\n",
        "channel_map = {'Outcall':1, 'Inbound':2, 'Email':3}\n",
        "flipkart_df['channel_name_code'] = flipkart_df['channel_name'].map(channel_map)"
      ],
      "metadata": {
        "id": "UhfyDsuRDM6P"
      },
      "execution_count": null,
      "outputs": []
    },
    {
      "cell_type": "code",
      "source": [
        "flipkart_df.shape"
      ],
      "metadata": {
        "id": "tJO1bR2v8Hbe"
      },
      "execution_count": null,
      "outputs": []
    },
    {
      "cell_type": "code",
      "source": [
        "flipkart_df.info()"
      ],
      "metadata": {
        "id": "mpB62aTmBSAv"
      },
      "execution_count": null,
      "outputs": []
    },
    {
      "cell_type": "code",
      "source": [
        "flipkart_df"
      ],
      "metadata": {
        "id": "e287zQMjBNuv"
      },
      "execution_count": null,
      "outputs": []
    },
    {
      "cell_type": "code",
      "source": [
        "flipkart_df.loc[flipkart_df['response_time'] == flipkart_df['response_time'].max()]"
      ],
      "metadata": {
        "id": "1klSxuFs1Zwn"
      },
      "execution_count": null,
      "outputs": []
    },
    {
      "cell_type": "code",
      "source": [
        "flipkart_df['Week'] = flipkart_df['Survey_response_Date'].dt.to_period('W').apply(lambda r: r.start_time)"
      ],
      "metadata": {
        "id": "_BDsoWRN2yyw"
      },
      "execution_count": null,
      "outputs": []
    },
    {
      "cell_type": "code",
      "source": [],
      "metadata": {
        "id": "VLqgKBUR27JY"
      },
      "execution_count": null,
      "outputs": []
    },
    {
      "cell_type": "code",
      "source": [
        "flipkart_df.describe(include = 'all')"
      ],
      "metadata": {
        "id": "x3WaP04LE9Ti"
      },
      "execution_count": null,
      "outputs": []
    },
    {
      "cell_type": "markdown",
      "source": [
        "### What all manipulations have you done and insights you found?"
      ],
      "metadata": {
        "id": "MSa1f5Uengrz"
      }
    },
    {
      "cell_type": "markdown",
      "source": [
        "# Manipulations\n",
        "1. Dropping the columns with huge null values ('Order_id', 'order_date_time', 'Customer_City', 'Product_category', 'Item_price', 'connected_handling_time', 'Supervisor').\n",
        "2. Change type of datetime columns from object to datetime.\n",
        "3. Add a colum to calculate the gap between issue_reported and issue_responded\n",
        "4. Checking the negative response_time and droping the rows.\n",
        "5. Created a column with unique values representing unique channel_name."
      ],
      "metadata": {
        "id": "LbyXE7I1olp8"
      }
    },
    {
      "cell_type": "markdown",
      "source": [
        "## ***4. Data Vizualization, Storytelling & Experimenting with charts : Understand the relationships between variables***"
      ],
      "metadata": {
        "id": "GF8Ens_Soomf"
      }
    },
    {
      "cell_type": "markdown",
      "source": [
        "#### Chart - 1 Response Time Distribution"
      ],
      "metadata": {
        "id": "0wOQAZs5pc--"
      }
    },
    {
      "cell_type": "code",
      "source": [
        "# Chart - 1 visualization code\n",
        "fig = px.histogram(flipkart_df, x='response_time', nbins=50)\n",
        "fig.update_layout(title_text='Response time distribution', xaxis_title_text='Response time in hours', yaxis_title_text='Issues responded')\n",
        "fig.show()"
      ],
      "metadata": {
        "id": "7v_ESjsspbW7"
      },
      "execution_count": null,
      "outputs": []
    },
    {
      "cell_type": "code",
      "source": [
        "flipkart_df.columns"
      ],
      "metadata": {
        "id": "4MXLsxZARzik"
      },
      "execution_count": null,
      "outputs": []
    },
    {
      "cell_type": "code",
      "source": [
        "200 / 60"
      ],
      "metadata": {
        "id": "xUsEuyQj0hUM"
      },
      "execution_count": null,
      "outputs": []
    },
    {
      "cell_type": "markdown",
      "source": [
        "##### 1. Why did you pick the specific chart?"
      ],
      "metadata": {
        "id": "K5QZ13OEpz2H"
      }
    },
    {
      "cell_type": "markdown",
      "source": [
        "Answer Here."
      ],
      "metadata": {
        "id": "XESiWehPqBRc"
      }
    },
    {
      "cell_type": "markdown",
      "source": [
        "##### 2. What is/are the insight(s) found from the chart?"
      ],
      "metadata": {
        "id": "lQ7QKXXCp7Bj"
      }
    },
    {
      "cell_type": "markdown",
      "source": [
        "We can see that more than 64,600 issues were responded within the first hour of the reporting, showing a good response from the agents' side."
      ],
      "metadata": {
        "id": "C_j1G7yiqdRP"
      }
    },
    {
      "cell_type": "markdown",
      "source": [
        "##### 3. Will the gained insights help creating a positive business impact?\n",
        "Are there any insights that lead to negative growth? Justify with specific reason."
      ],
      "metadata": {
        "id": "448CDAPjqfQr"
      }
    },
    {
      "cell_type": "markdown",
      "source": [
        "Answer Here"
      ],
      "metadata": {
        "id": "3cspy4FjqxJW"
      }
    },
    {
      "cell_type": "markdown",
      "source": [
        "#### Chart - 2 Average Response Time Taken By Each Channel"
      ],
      "metadata": {
        "id": "KSlN3yHqYklG"
      }
    },
    {
      "cell_type": "code",
      "source": [
        "# Chart - 2 visualization code\n",
        "\n",
        "response_time = flipkart_df.groupby('channel_name')['response_time'].mean().reset_index()\n",
        "# response_time\n",
        "fig = px.bar(response_time, x='channel_name', y='response_time')\n",
        "fig.update_layout(title_text='Response time by channel', xaxis_title_text='Channel', yaxis_title_text='Average response time in hour')\n",
        "fig.show()"
      ],
      "metadata": {
        "id": "R4YgtaqtYklH"
      },
      "execution_count": null,
      "outputs": []
    },
    {
      "cell_type": "markdown",
      "source": [
        "##### 1. Why did you pick the specific chart?"
      ],
      "metadata": {
        "id": "t6dVpIINYklI"
      }
    },
    {
      "cell_type": "markdown",
      "source": [
        "Here, we chose the bar chart because it is very good to shows the differences in the averag time taken to response by each channel."
      ],
      "metadata": {
        "id": "5aaW0BYyYklI"
      }
    },
    {
      "cell_type": "markdown",
      "source": [
        "##### 2. What is/are the insight(s) found from the chart?"
      ],
      "metadata": {
        "id": "ijmpgYnKYklI"
      }
    },
    {
      "cell_type": "markdown",
      "source": [
        "## 1. Outcall channel: #\n",
        "When we look at customer support across different channels, a clear pattern emerges. Outbound calls, or Outcall, stand out as the fastest medium, with an average response time of just `2.87 hours`. This shows that when our agents proactively reach out, they’re able to resolve customer concerns quickly and effectively.\n",
        "\n",
        "## 2. Inbound channel: #\n",
        "Inbound calls follow closely behind, averaging `2.91 hours`. The gap between Outcall and Inbound is minimal, which tells us that both types of call-based interactions are handled with consistency and efficiency.\n",
        "\n",
        "## 3. Email channel: #\n",
        "\n",
        "But when we shift our attention to the Email channel, the picture changes. Emails take on average `3.61 hours` to receive a response—the highest among all channels. This delay highlights an area where customers might feel neglected or less prioritized compared to call-based support.\n"
      ],
      "metadata": {
        "id": "PSx9atu2YklI"
      }
    },
    {
      "cell_type": "markdown",
      "source": [
        "##### 3. Will the gained insights help creating a positive business impact?\n",
        "Are there any insights that lead to negative growth? Justify with specific reason."
      ],
      "metadata": {
        "id": "-JiQyfWJYklI"
      }
    },
    {
      "cell_type": "markdown",
      "source": [
        "Answer Here"
      ],
      "metadata": {
        "id": "BcBbebzrYklV"
      }
    },
    {
      "cell_type": "markdown",
      "source": [
        "#### Chart - 3 Response Time By Agent Shifts"
      ],
      "metadata": {
        "id": "EM7whBJCYoAo"
      }
    },
    {
      "cell_type": "code",
      "source": [
        "# Chart - 3 visualization code\n",
        "shift_by_response_time = flipkart_df.groupby('Agent Shift')['response_time'].agg(avg_response_time=\"mean\", min_response_time=\"min\", max_response_time=\"max\").reset_index().sort_values('avg_response_time', ascending=False)\n",
        "shift_by_response_time\n",
        "fig = px.bar(shift_by_response_time, x='Agent Shift', y='avg_response_time',\n",
        "             hover_data={\n",
        "        \"min_response_time\": True,\n",
        "        \"max_response_time\": True\n",
        "    })\n",
        "fig.update_layout(title_text='Average response time by agent shift', xaxis_title_text='Agent Shift', yaxis_title_text='Average Response Time In Hour')\n",
        "\n",
        "fig.show()"
      ],
      "metadata": {
        "id": "t6GMdE67YoAp"
      },
      "execution_count": null,
      "outputs": []
    },
    {
      "cell_type": "markdown",
      "source": [
        "##### 1. Why did you pick the specific chart?"
      ],
      "metadata": {
        "id": "fge-S5ZAYoAp"
      }
    },
    {
      "cell_type": "markdown",
      "source": [
        "Here, we chose the bar chart because it is very good to shows the differences in the averag time taken to response by each agent shift."
      ],
      "metadata": {
        "id": "5dBItgRVYoAp"
      }
    },
    {
      "cell_type": "markdown",
      "source": [
        "##### 2. What is/are the insight(s) found from the chart?"
      ],
      "metadata": {
        "id": "85gYPyotYoAp"
      }
    },
    {
      "cell_type": "markdown",
      "source": [
        "1. **Afternoon shift** records the highest average response time of `3.41 hours`, followed closely by the **Night shift** at `3.35 hours`.\n",
        "\n",
        "2. The **Morning shift** is the most efficient with an average response time of 2.85 hours, while the Evening shift follows at `2.91 hours`.\n",
        "\n",
        "3. The **Split shift** averages at `3.14 hours`, slightly higher than the Evening shift.\n"
      ],
      "metadata": {
        "id": "4jstXR6OYoAp"
      }
    },
    {
      "cell_type": "markdown",
      "source": [
        "##### 3. Will the gained insights help creating a positive business impact?\n",
        "Are there any insights that lead to negative growth? Justify with specific reason."
      ],
      "metadata": {
        "id": "RoGjAbkUYoAp"
      }
    },
    {
      "cell_type": "markdown",
      "source": [
        "Answer Here"
      ],
      "metadata": {
        "id": "zfJ8IqMcYoAp"
      }
    },
    {
      "cell_type": "markdown",
      "source": [
        "#### Chart - 4 CSAT Score distribution overall"
      ],
      "metadata": {
        "id": "4Of9eVA-YrdM"
      }
    },
    {
      "cell_type": "code",
      "source": [
        "# Chart - 4 visualization code\n",
        "csat_score_count = flipkart_df['CSAT Score'].value_counts().reset_index()\n",
        "csat_score_count.columns = [\"CSAT Score\", \"Count\"]\n",
        "fig = px.pie(csat_score_count, names='CSAT Score', values=\"Count\")\n",
        "fig.update_layout(title_text='CSAT Score distribution',\n",
        "                  width=800)\n",
        "fig.show()"
      ],
      "metadata": {
        "id": "irlUoxc8YrdO"
      },
      "execution_count": null,
      "outputs": []
    },
    {
      "cell_type": "markdown",
      "source": [
        "##### 1. Why did you pick the specific chart?"
      ],
      "metadata": {
        "id": "iky9q4vBYrdO"
      }
    },
    {
      "cell_type": "markdown",
      "source": [
        "We picked-up the pie chart as it is very good to show the proportion of each of the CSAT score."
      ],
      "metadata": {
        "id": "aJRCwT6DYrdO"
      }
    },
    {
      "cell_type": "markdown",
      "source": [
        "##### 2. What is/are the insight(s) found from the chart?"
      ],
      "metadata": {
        "id": "F6T5p64dYrdO"
      }
    },
    {
      "cell_type": "markdown",
      "source": [
        "1. The **5-star** rating dominates the chart, contributing `69.3%` with a remarkable `57,352 reviews`. This clearly shows that the majority of customers are highly satisfied.\n",
        "\n",
        "2. Surprisingly, the **1-star** rating stands as the second-largest contributor, accounting for `13.2%` with `10,934 reviews`. This indicates a significant portion of dissatisfied customers that cannot be ignored.\n",
        "\n",
        "3. The **4-star** reviews follow closely, forming `13%` with `10,774 reviews`, showing that many customers were satisfied but still found room for improvement.\n",
        "\n",
        "4. Meanwhile, **3-star** ratings `(2,478 reviews)` and **2-star** ratings `(1,241 reviews)` together form a smaller share, highlighting a minority of neutral-to-dissatisfied experiences."
      ],
      "metadata": {
        "id": "Xx8WAJvtYrdO"
      }
    },
    {
      "cell_type": "markdown",
      "source": [
        "##### 3. Will the gained insights help creating a positive business impact?\n",
        "Are there any insights that lead to negative growth? Justify with specific reason."
      ],
      "metadata": {
        "id": "y-Ehk30pYrdP"
      }
    },
    {
      "cell_type": "markdown",
      "source": [
        "While the product/service enjoys an overwhelmingly positive response, the presence of a sizable share of 1-star reviews signals a need to investigate recurring issues to further improve customer satisfaction."
      ],
      "metadata": {
        "id": "jLNxxz7MYrdP"
      }
    },
    {
      "cell_type": "markdown",
      "source": [
        "#### Chart - 5 CSAT Score by Category and Sub-category"
      ],
      "metadata": {
        "id": "bamQiAODYuh1"
      }
    },
    {
      "cell_type": "code",
      "source": [
        "# Chart - 5 visualization code\n",
        "CSAT_treemap = flipkart_df.groupby(['category', 'Sub-category']).agg(\n",
        "                                    Avg_csat = ('CSAT Score','mean'),\n",
        "                                    Count = ('CSAT Score','count')\n",
        "                                    ).reset_index()\n",
        "CSAT_treemap\n",
        "fig = px.treemap(CSAT_treemap, path=['category', 'Sub-category'], values='Count',\n",
        "                 color='Avg_csat',\n",
        "                 color_continuous_scale='RdBu',\n",
        "                 hover_data={'Avg_csat': ':.2f'})\n",
        "fig.show()"
      ],
      "metadata": {
        "id": "TIJwrbroYuh3"
      },
      "execution_count": null,
      "outputs": []
    },
    {
      "cell_type": "markdown",
      "source": [
        "##### 1. Why did you pick the specific chart?"
      ],
      "metadata": {
        "id": "QHF8YVU7Yuh3"
      }
    },
    {
      "cell_type": "markdown",
      "source": [
        "We chose the treemap because it represents hierarchical data in an intuitive and visually appealing way. In our case, the ‘Category’ acts as the parent, while the ‘Sub-category’ serves as the child node. This allows us to easily explore patterns within categories. The treemap not only displays the relative contribution of each sub-category but also encodes the average CSAT Score through color, making it effective for analyzing both distribution and performance at multiple levels simultaneously."
      ],
      "metadata": {
        "id": "dcxuIMRPYuh3"
      }
    },
    {
      "cell_type": "markdown",
      "source": [
        "##### 2. What is/are the insight(s) found from the chart?"
      ],
      "metadata": {
        "id": "GwzvFGzlYuh3"
      }
    },
    {
      "cell_type": "markdown",
      "source": [
        "##Returns##\n",
        "\n",
        "1. **Total CSAT count:** 42,649 (highest among all categories)\n",
        "\n",
        "2. **Top sub-category by count:** Reverse Pickup Enquiry → 12,676 cases with avg CSAT 4.19.\n",
        "\n",
        "3. **Highest avg CSAT:** Return Request & Missing → 4.61.\n",
        "\n",
        "4. **Lowest avg CSAT:** Service Center – Service Denial → 3.22\n",
        "\n",
        "##Other Related##\n",
        "\n",
        "1. **Total CSAT count:** 22,274 (2nd largest share)\n",
        "\n",
        "2. **Top sub-category by count:** Delay → 7,150 cases with avg CSAT 4.01\n",
        "\n",
        "3. **Next biggest sub-category:** Order Status Enquiry → 6,546 cases with avg\n",
        "CSAT 4.20\n",
        "4. **Highest avg CSAT:** Customer Requested Modification → 4.53\n",
        "\n",
        "5. **Lowest avg CSAT:** Seller Cancelled Order → 3.57\n"
      ],
      "metadata": {
        "id": "uyqkiB8YYuh3"
      }
    },
    {
      "cell_type": "markdown",
      "source": [
        "##### 3. Will the gained insights help creating a positive business impact?\n",
        "Are there any insights that lead to negative growth? Justify with specific reason."
      ],
      "metadata": {
        "id": "qYpmQ266Yuh3"
      }
    },
    {
      "cell_type": "markdown",
      "source": [
        "Answer Here"
      ],
      "metadata": {
        "id": "_WtzZ_hCYuh4"
      }
    },
    {
      "cell_type": "markdown",
      "source": [
        "#### Chart - 6 CSAT Score Over Time"
      ],
      "metadata": {
        "id": "OH-pJp9IphqM"
      }
    },
    {
      "cell_type": "code",
      "source": [
        "# Chart - 6 visualization code\n",
        "timely_csat_score = flipkart_df.groupby('Survey_response_Date').agg(Avg_csat=('CSAT Score','mean'),\n",
        "                                                                    Q1_csat=('CSAT Score', lambda x: x.quantile(0.25)),  # 25th percentile\n",
        "                                                                    Q3_csat=('CSAT Score', lambda x: x.quantile(0.75)),  # 75th percentile\n",
        "                                                                    count=('CSAT Score','count')).reset_index()\n",
        "timely_csat_score\n",
        "\n",
        "fig = px.line(timely_csat_score, x='Survey_response_Date', y='Avg_csat',\n",
        "              title='CSAT Score Over Time', hover_data=['Q1_csat', 'Q3_csat', 'count'])\n",
        "fig.update_xaxes(tickangle=45, dtick=\"D1\")\n",
        "fig.update_traces(line=dict(width=3))\n",
        "\n",
        "fig.show()"
      ],
      "metadata": {
        "id": "kuRf4wtuphqN"
      },
      "execution_count": null,
      "outputs": []
    },
    {
      "cell_type": "markdown",
      "source": [
        "##### 1. Why did you pick the specific chart?"
      ],
      "metadata": {
        "id": "bbFf2-_FphqN"
      }
    },
    {
      "cell_type": "markdown",
      "source": [],
      "metadata": {
        "id": "loh7H2nzphqN"
      }
    },
    {
      "cell_type": "markdown",
      "source": [
        "##### 2. What is/are the insight(s) found from the chart?"
      ],
      "metadata": {
        "id": "_ouA3fa0phqN"
      }
    },
    {
      "cell_type": "markdown",
      "source": [
        "**Overall trend:** Throughout August, customer satisfaction remained consistently high, with average CSAT scores `between 4.16 and 4.36`.\n",
        "\n",
        "**Anomaly detected:** On 28th August, the average CSAT dropped sharply to `3.19`, indicating a significant dip in customer satisfaction on that day.\n",
        "\n",
        "**Next steps:** Investigate the root cause of this drop — could be a system outage, delayed deliveries, high query volume, or specific sub-category issues. This day could be a key pain point for the Flipkart support team."
      ],
      "metadata": {
        "id": "VECbqPI7phqN"
      }
    },
    {
      "cell_type": "markdown",
      "source": [
        "##### 3. Will the gained insights help creating a positive business impact?\n",
        "Are there any insights that lead to negative growth? Justify with specific reason."
      ],
      "metadata": {
        "id": "Seke61FWphqN"
      }
    },
    {
      "cell_type": "markdown",
      "source": [
        "Answer Here"
      ],
      "metadata": {
        "id": "DW4_bGpfphqN"
      }
    },
    {
      "cell_type": "markdown",
      "source": [
        "#### Chart - 7 Top & Bottom Performers (Sub-categories)"
      ],
      "metadata": {
        "id": "PIIx-8_IphqN"
      }
    },
    {
      "cell_type": "code",
      "source": [
        "# Chart - 7 visualization code\n",
        "\n",
        "top_performing_sub_categories = flipkart_df.groupby('Sub-category').agg(avg_csat_score=('CSAT Score',\"mean\"),\n",
        "                                                                        total_reviews=('CSAT Score','count'),\n",
        "                                                                        min_csat_score=('CSAT Score',\"min\"),\n",
        "                                                                        max_csat_score=('CSAT Score',\"max\")\n",
        "                                                                        ).reset_index().sort_values(\"total_reviews\", ascending=False)\n",
        "top_performing_sub_categories\n",
        "fig = px.bar(top_performing_sub_categories, x='Sub-category', y='avg_csat_score', hover_data=[\"total_reviews\", \"min_csat_score\", \"max_csat_score\"], color=\"avg_csat_score\", color_continuous_scale=\"RdBu\")\n",
        "fig.update_layout(title_text='Top Performing Sub-categories', xaxis_title_text=\"Sub-category\", yaxis_title_text=\"Average CSAT score\")\n",
        "\n",
        "fig.show()"
      ],
      "metadata": {
        "id": "lqAIGUfyphqO"
      },
      "execution_count": null,
      "outputs": []
    },
    {
      "cell_type": "markdown",
      "source": [
        "##### 1. Why did you pick the specific chart?"
      ],
      "metadata": {
        "id": "t27r6nlMphqO"
      }
    },
    {
      "cell_type": "markdown",
      "source": [
        "We selected barchart here as it shows the visible difference among the average CSAT score of all the Sub-categories."
      ],
      "metadata": {
        "id": "iv6ro40sphqO"
      }
    },
    {
      "cell_type": "markdown",
      "source": [
        "##### 2. What is/are the insight(s) found from the chart?"
      ],
      "metadata": {
        "id": "r2jJGEOYphqO"
      }
    },
    {
      "cell_type": "markdown",
      "source": [
        "1. The chart is in descending order by total number of reviews each sub-category holds.\n",
        "2. There are total 21,676 reviews for Reverse pickup enquiry and has a moderateaverage CSAT score of `4.18`, followed by **return-request** sub-category with the total reviews of 8207 and average CSAT score of 4.16.\n",
        "3. the worst is performed by **unable to login** sub-category, although it has the total review count of 6 only, it has the lowest average CSAT score of `2`."
      ],
      "metadata": {
        "id": "Po6ZPi4hphqO"
      }
    },
    {
      "cell_type": "markdown",
      "source": [
        "##### 3. Will the gained insights help creating a positive business impact?\n",
        "Are there any insights that lead to negative growth? Justify with specific reason."
      ],
      "metadata": {
        "id": "b0JNsNcRphqO"
      }
    },
    {
      "cell_type": "markdown",
      "source": [
        "Answer Here"
      ],
      "metadata": {
        "id": "xvSq8iUTphqO"
      }
    },
    {
      "cell_type": "markdown",
      "source": [
        "#### Chart - 8"
      ],
      "metadata": {
        "id": "BZR9WyysphqO"
      }
    },
    {
      "cell_type": "code",
      "source": [
        "# Chart - 8 visualization code\n",
        "\n",
        "fig = px.histogram(flipkart_df, x='CSAT Score', nbins=6, title='CSAT Score Distribution')\n",
        "fig.show()\n",
        "\n",
        "fig = px.box(flipkart_df, x='category', y='CSAT Score', title='CSAT Distribution by Category')\n",
        "fig.show()\n"
      ],
      "metadata": {
        "id": "TdPTWpAVphqO"
      },
      "execution_count": null,
      "outputs": []
    },
    {
      "cell_type": "markdown",
      "source": [
        "##### 1. Why did you pick the specific chart?"
      ],
      "metadata": {
        "id": "jj7wYXLtphqO"
      }
    },
    {
      "cell_type": "markdown",
      "source": [
        "Answer Here."
      ],
      "metadata": {
        "id": "Ob8u6rCTphqO"
      }
    },
    {
      "cell_type": "markdown",
      "source": [
        "##### 2. What is/are the insight(s) found from the chart?"
      ],
      "metadata": {
        "id": "eZrbJ2SmphqO"
      }
    },
    {
      "cell_type": "markdown",
      "source": [
        "##1. In CSAT score Distribution:##\n",
        "* We can see that the CSAT score of 5 dominates the barchart with `57,352` reviews.\n",
        "* On the other hand we have CSAT score of 1 with `10,934` reviews.\n",
        "* CSAT score of 2 has the least count of with just `1241` reviews.\n",
        "\n",
        "##2. CSAT Distribution by Category:##\n",
        "* All the categories are doing great while having the median of CSAT score of `5`.\n",
        "* only the **Others** struggle with the median of CSAT score of `4`."
      ],
      "metadata": {
        "id": "mZtgC_hjphqO"
      }
    },
    {
      "cell_type": "markdown",
      "source": [
        "##### 3. Will the gained insights help creating a positive business impact?\n",
        "Are there any insights that lead to negative growth? Justify with specific reason."
      ],
      "metadata": {
        "id": "rFu4xreNphqO"
      }
    },
    {
      "cell_type": "markdown",
      "source": [
        "Answer Here"
      ],
      "metadata": {
        "id": "ey_0qi68phqO"
      }
    },
    {
      "cell_type": "markdown",
      "source": [
        "#### Chart - 9"
      ],
      "metadata": {
        "id": "YJ55k-q6phqO"
      }
    },
    {
      "cell_type": "code",
      "source": [
        "# Chart - 9 visualization code\n",
        "query_volume = flipkart_df.groupby('category')['CSAT Score'].agg(['mean','count']).reset_index()\n",
        "fig_scatter = px.scatter(query_volume, x='count', y='mean',\n",
        "                         labels={'count':'Query Volume', 'mean':'Average CSAT'},\n",
        "                         title='CSAT vs Query Volume', hover_data='category',)\n",
        "fig_scatter.show()\n"
      ],
      "metadata": {
        "id": "B2aS4O1ophqO"
      },
      "execution_count": null,
      "outputs": []
    },
    {
      "cell_type": "markdown",
      "source": [
        "##### 1. Why did you pick the specific chart?"
      ],
      "metadata": {
        "id": "gCFgpxoyphqP"
      }
    },
    {
      "cell_type": "markdown",
      "source": [
        "Scatter plot is a great choice to show the correlation between the continuous variables."
      ],
      "metadata": {
        "id": "TVxDimi2phqP"
      }
    },
    {
      "cell_type": "markdown",
      "source": [
        "##### 2. What is/are the insight(s) found from the chart?"
      ],
      "metadata": {
        "id": "OVtJsKN_phqQ"
      }
    },
    {
      "cell_type": "markdown",
      "source": [
        "1. Category **Returns** has the highest volume of queries of `42,649` along with the great average CSAT score of `4.34`, followed by **Order Related** with the query volume of `22,274` and average CSAT score of `4,08`.\n",
        "2. We have our worst perform **Others** with query volume of `96` only and average CSAT score of `3.38`, which is not at all expected with such a low volume of queries."
      ],
      "metadata": {
        "id": "ngGi97qjphqQ"
      }
    },
    {
      "cell_type": "markdown",
      "source": [
        "##### 3. Will the gained insights help creating a positive business impact?\n",
        "Are there any insights that lead to negative growth? Justify with specific reason."
      ],
      "metadata": {
        "id": "lssrdh5qphqQ"
      }
    },
    {
      "cell_type": "markdown",
      "source": [
        "Answer Here"
      ],
      "metadata": {
        "id": "tBpY5ekJphqQ"
      }
    },
    {
      "cell_type": "code",
      "source": [
        "flipkart_df.isnull().sum()"
      ],
      "metadata": {
        "id": "M4mqnvfkg0wo"
      },
      "execution_count": null,
      "outputs": []
    },
    {
      "cell_type": "markdown",
      "source": [
        "# Training the Model"
      ],
      "metadata": {
        "id": "U2RJ9gkRphqQ"
      }
    },
    {
      "cell_type": "code",
      "source": [
        "# Creating the satisfaction column\n",
        "flipkart_df[\"satisfaction_level\"] = flipkart_df[\"CSAT Score\"].apply(lambda x: 1 if x >= 4 else 0)"
      ],
      "metadata": {
        "id": "GM7a4YP4phqQ"
      },
      "execution_count": null,
      "outputs": []
    },
    {
      "cell_type": "markdown",
      "source": [
        "##### 1. Why did you pick the specific chart?"
      ],
      "metadata": {
        "id": "1M8mcRywphqQ"
      }
    },
    {
      "cell_type": "markdown",
      "source": [
        "Answer Here."
      ],
      "metadata": {
        "id": "8agQvks0phqQ"
      }
    },
    {
      "cell_type": "code",
      "source": [
        "flipkart_df[\"satisfaction_level\"].value_counts()"
      ],
      "metadata": {
        "id": "Yuvfajdolhvz"
      },
      "execution_count": null,
      "outputs": []
    },
    {
      "cell_type": "code",
      "source": [
        "flipkart_df.columns"
      ],
      "metadata": {
        "id": "7-Dw_8xPlzge"
      },
      "execution_count": null,
      "outputs": []
    },
    {
      "cell_type": "code",
      "source": [
        "# Encoding the columns\n",
        "features = [\"response_time\", \"channel_name_code\", \"Week\"]\n",
        "target = \"satisfaction_level\""
      ],
      "metadata": {
        "id": "H3kwBk86rmfo"
      },
      "execution_count": null,
      "outputs": []
    },
    {
      "cell_type": "code",
      "source": [
        "# splitting the X and y\n",
        "\n",
        "X = flipkart_df[[\"response_time\", \"channel_name_code\", \"Week\"]]\n",
        "y = flipkart_df[\"satisfaction_level\"]"
      ],
      "metadata": {
        "id": "2EfFvwY7p-kF"
      },
      "execution_count": null,
      "outputs": []
    },
    {
      "cell_type": "code",
      "source": [
        "X[\"Week\"] = X[\"Week\"].astype(int)"
      ],
      "metadata": {
        "id": "g1goJHzp212M"
      },
      "execution_count": null,
      "outputs": []
    },
    {
      "cell_type": "code",
      "source": [
        "# train_test_split\n",
        "\n",
        "X_train, X_test, y_train, y_test = train_test_split(X, y, test_size=0.2, random_state=42)\n",
        "\n",
        "print(X_train.shape, X_test.shape, y_train.shape, y_test.shape)"
      ],
      "metadata": {
        "id": "1xWoLG3AzYQV"
      },
      "execution_count": null,
      "outputs": []
    },
    {
      "cell_type": "code",
      "source": [
        "# Logistic Regression Starts\n",
        "smote = SMOTE(sampling_strategy = 'minority', random_state=42)\n",
        "tomek = TomekLinks(sampling_strategy='majority')\n",
        "\n",
        "resamplePipeline = Pipeline(steps=[('smote', smote), ('tomek', tomek)])\n",
        "\n",
        "\n",
        "X_res, y_res = resamplePipeline.fit_resample(X_train, y_train)\n",
        "\n",
        "# Check balance\n",
        "print(\"Before SMOTE:\", y_train.value_counts())\n",
        "print(\"After SMOTE:\", y_res.value_counts())"
      ],
      "metadata": {
        "id": "ifVVTkEnJkPg"
      },
      "execution_count": null,
      "outputs": []
    },
    {
      "cell_type": "code",
      "source": [
        "# Logistic Regression\n",
        "\n",
        "model=LogisticRegression(max_iter=1000, class_weight='balanced')\n",
        "model.fit(X_res, y_res)\n",
        "# model.fit(X_train, y_train)\n",
        "\n",
        "y_pred = model.predict(X_test)\n",
        "\n",
        "accuracy = accuracy_score(y_test, y_pred)\n",
        "conf_mat_lg = confusion_matrix(y_test, y_pred)\n",
        "Classification_report = classification_report(y_test, y_pred)\n",
        "\n",
        "print(\"Accuracy = \",accuracy)\n",
        "print(\"\\nConfusion_matrix = \",conf_mat_lg)\n",
        "# print(\"\\nclassification_report = \",Classification_report)"
      ],
      "metadata": {
        "id": "gTd9GUgN0i2p"
      },
      "execution_count": null,
      "outputs": []
    },
    {
      "cell_type": "code",
      "source": [
        "# # Random Forest\n",
        "\n",
        "# rf_model = RandomForestClassifier(n_estimators=200, random_state=42, n_jobs=-1)\n",
        "\n",
        "# param_dist = {\n",
        "#     'n_estimators': [100, 200, 300, 500, 800, 1000],\n",
        "#     'max_depth': [None, 5, 10, 20, 30, 50],\n",
        "#     'min_samples_split': [2, 5, 10, 15],\n",
        "#     'min_samples_leaf': [1, 2, 4, 6],\n",
        "#     'max_features': ['sqrt', 'log2', None],\n",
        "#     'class_weight': [None, 'balanced', 'balanced_subsample']\n",
        "# }\n",
        "\n",
        "# # Randomized Search\n",
        "# random_search = RandomizedSearchCV(\n",
        "#     estimator=rf_model,\n",
        "#     param_distributions=param_dist,\n",
        "#     n_iter=30,              # number of random combinations to try\n",
        "#     cv=3,                   # 3-fold cross validation\n",
        "#     verbose=2,\n",
        "#     random_state=42,\n",
        "#     n_jobs=-1\n",
        "# )\n",
        "\n",
        "# random_search.fit(X_train, y_train)\n",
        "\n",
        "# # Check balance\n",
        "# print(\"Best Parameters:\", random_search.best_params_)\n",
        "# print(\"Best score:\", random_search.best_score_)\n",
        "\n",
        "\n",
        "# # y_pred = rf_model.predict(X_test)\n",
        "\n",
        "# # accuracy = accuracy_score(y_test, y_pred)\n",
        "# # confu_mat_rf = confusion_matrix(y_test, y_pred)\n",
        "# # classf_rep_rf = classification_report(y_test, y_pred)\n",
        "\n",
        "# # print(\"Accuracy = \",accuracy)\n",
        "# # print(\"\\nConfusion_matrix = \",confu_mat_rf)\n",
        "# # print(\"\\nClassification report = \",classf_rep_rf)"
      ],
      "metadata": {
        "id": "0Y8_gsqzVrP4"
      },
      "execution_count": null,
      "outputs": []
    },
    {
      "cell_type": "code",
      "source": [
        "scaler = StandardScaler()\n",
        "X_train_scaled = scaler.fit_transform(X_train)\n",
        "X_test_scaled = scaler.transform(X_test)\n",
        "\n",
        "X_train_res, y_train_res = smote.fit_resample(X_train_scaled, y_train)\n",
        "\n",
        "print(\"Before SMOTE:\", y_train.value_counts())\n",
        "print(\"After SMOTE:\", y_train_res.value_counts())\n",
        "\n",
        "rf_model = RandomForestClassifier(\n",
        "              n_estimators=100,\n",
        "              max_depth=15,\n",
        "              random_state=42,\n",
        "              n_jobs=-1,\n",
        "              class_weight=\"balanced\")\n",
        "\n",
        "rf_model.fit(X_train_res, y_train_res)\n",
        "\n",
        "y_pred = rf_model.predict(X_test_scaled)\n",
        "\n",
        "print(\"Accuracy:\", accuracy_score(y_test, y_pred))\n",
        "print(\"Confusion Matrix:\\n\", confusion_matrix(y_test, y_pred))\n",
        "print(\"Classification Report:\\n\", classification_report(y_test, y_pred))"
      ],
      "metadata": {
        "id": "xMOl72EWiVjx"
      },
      "execution_count": null,
      "outputs": []
    },
    {
      "cell_type": "code",
      "source": [
        "# --- Threshold Tuning Cell ---\n",
        "\n",
        "# Predict probabilities for High CSAT\n",
        "y_probs = rf_model.predict_proba(X_test_scaled)[:,1]\n",
        "\n",
        "# Try different thresholds\n",
        "thresholds = [0.3, 0.35, 0.4, 0.45, 0.5]\n",
        "\n",
        "for th in thresholds:\n",
        "    y_pred_new = (y_probs >= th).astype(int)\n",
        "    acc = accuracy_score(y_test, y_pred_new)\n",
        "    confu = confusion_matrix(y_test, y_pred_new)\n",
        "    print(f\"\\nThreshold = {th}\")\n",
        "    print(\"Accuracy =\", acc)\n",
        "    print(\"Confusion Matrix:\\n\", confu)\n"
      ],
      "metadata": {
        "id": "huvVTs4do-6n"
      },
      "execution_count": null,
      "outputs": []
    },
    {
      "cell_type": "code",
      "source": [
        "# Displaying Feature importances\n",
        "importances = rf_model.feature_importances_\n",
        "feature_names = X_train.columns  # ya X_train_scaled ke original column names\n",
        "\n",
        "feat_imp_df = pd.DataFrame({\n",
        "    'Feature': feature_names,\n",
        "    'Importance': importances\n",
        "})\n",
        "\n",
        "# Top 20 features\n",
        "feat_imp_df = feat_imp_df.sort_values(by='Importance', ascending=False).head(20)\n",
        "\n",
        "# Plotly horizontal bar chart\n",
        "fig = px.bar(feat_imp_df,\n",
        "             x='Importance',\n",
        "             y='Feature',\n",
        "             orientation='h',\n",
        "             title='Top 3 Feature Importances - Random Forest',\n",
        "             text='Importance')\n",
        "\n",
        "fig.update_traces(texttemplate='%{text:.4f}', textposition='outside')\n",
        "fig.update_layout(yaxis={'categoryorder':'total ascending'}, height=600)\n",
        "fig.show()"
      ],
      "metadata": {
        "id": "dGuYYm_5p_BL"
      },
      "execution_count": null,
      "outputs": []
    },
    {
      "cell_type": "markdown",
      "source": [
        "## **5. Solution to Business Objective**"
      ],
      "metadata": {
        "id": "JcMwzZxoAimU"
      }
    },
    {
      "cell_type": "code",
      "source": [
        "# Decision Tree\n",
        "\n",
        "dt_model = DecisionTreeClassifier(random_state=42,\n",
        "                                  max_depth=5,\n",
        "                                  class_weight=\"balanced\")\n",
        "\n",
        "dt_model.fit(X_train, y_train)\n",
        "\n",
        "y_pred = dt_model.predict(X_test)\n",
        "\n",
        "accuracy = accuracy_score(y_test, y_pred)\n",
        "conf_mat_dt = confusion_matrix(y_test, y_pred)\n",
        "class_rept_dt = classification_report(y_test, y_pred)\n",
        "\n",
        "print(\"Accuracy = \",accuracy)\n",
        "print(\"\\nConfusion_matrix = \",conf_mat_dt)\n",
        "print(\"\\nClassification report = \",class_rept_dt)"
      ],
      "metadata": {
        "id": "jcLaJoeYvqAv"
      },
      "execution_count": null,
      "outputs": []
    },
    {
      "cell_type": "code",
      "source": [
        "# displaying feature importance\n",
        "feat_importances = dt_model.feature_importances_\n",
        "features = X_train.columns\n",
        "\n",
        "# Create DataFrame\n",
        "feat_df = pd.DataFrame({\n",
        "    'Feature': features,\n",
        "    'Importance': feat_importances\n",
        "})\n",
        "\n",
        "# Take top 3 features\n",
        "top3_feat = feat_df.sort_values(by='Importance', ascending=False).head(3)\n",
        "\n",
        "# --- Plotly horizontal bar chart ---\n",
        "fig = px.bar(top3_feat,\n",
        "             x='Importance',\n",
        "             y='Feature',\n",
        "             orientation='h',\n",
        "             title='Top 3 Feature Importances - Decision Tree',\n",
        "             text='Importance')\n",
        "\n",
        "fig.update_traces(texttemplate='%{text:.4f}', textposition='outside')\n",
        "fig.update_layout(yaxis={'categoryorder':'total ascending'}, height=400)\n",
        "fig.show()"
      ],
      "metadata": {
        "id": "FFJCURsexlL5"
      },
      "execution_count": null,
      "outputs": []
    },
    {
      "cell_type": "markdown",
      "source": [
        "#### What do you suggest the client to achieve Business Objective ?"
      ],
      "metadata": {
        "id": "8G2x9gOozGDZ"
      }
    },
    {
      "cell_type": "markdown",
      "source": [
        "**1. Prioritize Fast Response Times:** Our analysis shows that response time is the strongest factor affecting CSAT. Reducing delays, especially in high-volume channels, will directly improve customer satisfaction.\n",
        "\n",
        "**2. Optimize Channel Management:** Channels like chat tend to have faster resolutions and higher CSAT, while slower channels like email show lower satisfaction. Consider reallocating resources or automating certain processes in slower channels.\n",
        "\n",
        "**3. Focus on High-Impact Categories:** Identify categories or sub-categories with low CSAT and high ticket volume. Targeted training, SOP improvements, or process automation can reduce pain points in these areas.\n",
        "\n",
        "**4. Monitor Agent Performance:** Some shifts or agents consistently perform better. Recognize top performers and provide coaching to underperforming shifts to maintain uniform quality.\n",
        "\n",
        "**5. Leverage Predictive Models:** Use the trained classification models to predict potential low CSAT tickets in real-time. This allows proactive intervention, improving overall satisfaction before issues escalate.\n",
        "\n",
        "**6. Continuous Feedback Analysis:** Even though customer remarks had many missing values, collecting structured feedback regularly can refine predictive models and provide actionable insights."
      ],
      "metadata": {
        "id": "pASKb0qOza21"
      }
    },
    {
      "cell_type": "markdown",
      "source": [
        "# **Conclusion**"
      ],
      "metadata": {
        "id": "gCX9965dhzqZ"
      }
    },
    {
      "cell_type": "markdown",
      "source": [
        "In this project, we analyzed Flipkart’s customer support data to understand response patterns, channel performance, agent effectiveness, and factors affecting customer satisfaction (CSAT). Through visualizations like bar charts, line charts, treemaps, and scatterplots, we observed trends over time, identified high-volume issues, and pinpointed key pain areas affecting CSAT. Classification models, including Logistic Regression, Random Forest, and Decision Tree, helped predict satisfaction levels and highlighted the most influential features such as response time, week, and channel. Resampling techniques were applied to handle class imbalance, improving model interpretability. Overall, the project provided actionable insights into operational efficiency, revealing that faster responses and certain channels positively impact CSAT, and it laid the groundwork for targeted improvements in customer support processes."
      ],
      "metadata": {
        "id": "Fjb1IsQkh3yE"
      }
    },
    {
      "cell_type": "markdown",
      "source": [
        "##Overall Model Review:##\n",
        "\n",
        "Logistic Regression provided interpretable coefficients, highlighting key predictors like response time and channel, but had moderate accuracy due to class imbalance. Random Forest improved predictive performance and handled non-linear relationships well, offering clear feature importance rankings. Decision Tree offered high interpretability and visual decision paths, but lower accuracy compared to Random Forest, making it more suitable for insights than prediction"
      ],
      "metadata": {
        "id": "2BURaifKXga0"
      }
    },
    {
      "cell_type": "markdown",
      "source": [
        "### ***Hurrah! You have successfully completed your EDA Capstone Project !!!***"
      ],
      "metadata": {
        "id": "gIfDvo9L0UH2"
      }
    }
  ]
}